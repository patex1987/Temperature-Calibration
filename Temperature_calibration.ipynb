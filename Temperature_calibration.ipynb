{
 "cells": [
  {
   "cell_type": "markdown",
   "metadata": {},
   "source": [
    "### Sensor calibration\n",
    "\n",
    "* Have you ever wondered, how is it possible that you buy a temperature sensor / probe, plug it in and it immediately shows the temperature (the same applies for pressure, humidity, force, stress, strain, displacement, etc.). Yes, i know there is always some configuration at the beginning. But somehow the sensor can convert its raw physical quantity (voltage, current, etc.) into the desired quantity (temperature in our case)\n",
    "* Sensors (transducers) work very similar to our senses. An outer pehnomenon acts on the sensor, and the sensor changes its internal structure (e.g. voltage of the sensor changes with temperature). However, we are not interested in the voltage level of the sensor, we need to know the actual temperature. This is where the calibration comes into play - it helps to find the relationship between the voltage level and temperature (or any other pair of physical quantities)\n",
    "* Calibration is usually a process, where we are determine a relationship between a known sensor (usually called reference) and an unknown sensor (we can call it DUT - device under test)\n",
    "* The same conditions are apllied for the reference and the DUT. The data is collected from both devices, analyzed and the correlation between them is evaluated (this is everything in a nutshell)\n",
    "* The calibration comes right after the manufacturing of the sensor. In some cases the sensors should be recalibrated in regular intervals (If there is suspicion, that the relatonship is changing with time).\n",
    "* In this notebook, I am going to show you how to evaluate calibration of a temperature sensor"
   ]
  },
  {
   "cell_type": "code",
   "execution_count": 2,
   "metadata": {
    "collapsed": true
   },
   "outputs": [],
   "source": [
    "# Importing some useful libraries\n",
    "\n",
    "%matplotlib inline\n",
    "\n",
    "import matplotlib\n",
    "import numpy as np\n",
    "import matplotlib.pyplot as plt\n",
    "\n",
    "import pandas as pd\n",
    "from numpy import random"
   ]
  },
  {
   "cell_type": "code",
   "execution_count": null,
   "metadata": {
    "collapsed": true
   },
   "outputs": [],
   "source": []
  },
  {
   "cell_type": "code",
   "execution_count": 3,
   "metadata": {
    "collapsed": true
   },
   "outputs": [],
   "source": [
    "# Strings holding filenames. All input files are located in the root folder of the notebook\n",
    "\n",
    "logger1_file = \"Logger1_abitrary_units.csv\"\n",
    "temperature_log_file = \"Logger2_temperature_probe.csv\""
   ]
  },
  {
   "cell_type": "markdown",
   "metadata": {},
   "source": [
    "* logger1 - represents the DUT. logger1_file - contains the data from the calibration\n",
    "* temperature - represents the temperature reference. Usually its a very precise PT-100 temperature probe, calibrated / verified by a metrological institue\n",
    "\n",
    "Note: The DUT and the reference can have different thermal response, different sensitivity, the scanning frequency of the loggers can be different as well."
   ]
  },
  {
   "cell_type": "code",
   "execution_count": 5,
   "metadata": {
    "collapsed": false
   },
   "outputs": [],
   "source": [
    "# We can load in the from the DUT into a pandas dataframe\n",
    "# Every log file can have different number of columns, different format, data separators.\n",
    "# So the first task is to erase the unnecessary data, clean it and convert it to a format, \n",
    "# which is compatible with the reference\n",
    "\n",
    "logger1_df = pd.read_table(logger1_file,header=1,sep=\";\",decimal=\",\", skipinitialspace=True,skip_blank_lines=False)\n",
    "logger1_df[logger1_df.columns[0]] = pd.to_datetime(logger1_df[logger1_df.columns[0]], format = \"%d.%m.%Y %H:%M:%S.%f\")\n",
    "logger1_df[logger1_df.columns[0]] = pd.to_datetime(logger1_df[logger1_df.columns[0]])"
   ]
  },
  {
   "cell_type": "code",
   "execution_count": 7,
   "metadata": {
    "collapsed": false
   },
   "outputs": [
    {
     "data": {
      "text/html": [
       "<div>\n",
       "<table border=\"1\" class=\"dataframe\">\n",
       "  <thead>\n",
       "    <tr style=\"text-align: right;\">\n",
       "      <th></th>\n",
       "      <th>19.4.2017 15:18:02.20929</th>\n",
       "      <th>1</th>\n",
       "      <th>0</th>\n",
       "      <th>0.1</th>\n",
       "      <th>0.2</th>\n",
       "      <th>0.3</th>\n",
       "      <th>0.4</th>\n",
       "      <th>0.5</th>\n",
       "      <th>0.6</th>\n",
       "      <th>0.7</th>\n",
       "      <th>0.8</th>\n",
       "      <th>0.9</th>\n",
       "      <th>0.10</th>\n",
       "      <th>0.11</th>\n",
       "      <th>0.12</th>\n",
       "      <th>0.13</th>\n",
       "      <th>0.14</th>\n",
       "      <th>128</th>\n",
       "      <th>-35</th>\n",
       "    </tr>\n",
       "  </thead>\n",
       "  <tbody>\n",
       "    <tr>\n",
       "      <th>0</th>\n",
       "      <td>2017-04-19 15:18:32.209290</td>\n",
       "      <td>1</td>\n",
       "      <td>0</td>\n",
       "      <td>0</td>\n",
       "      <td>0</td>\n",
       "      <td>0</td>\n",
       "      <td>0</td>\n",
       "      <td>0</td>\n",
       "      <td>0</td>\n",
       "      <td>0</td>\n",
       "      <td>0</td>\n",
       "      <td>0</td>\n",
       "      <td>0</td>\n",
       "      <td>0</td>\n",
       "      <td>0</td>\n",
       "      <td>0</td>\n",
       "      <td>0</td>\n",
       "      <td>128</td>\n",
       "      <td>-35.06</td>\n",
       "    </tr>\n",
       "    <tr>\n",
       "      <th>1</th>\n",
       "      <td>2017-04-19 15:19:06.209290</td>\n",
       "      <td>1</td>\n",
       "      <td>0</td>\n",
       "      <td>0</td>\n",
       "      <td>0</td>\n",
       "      <td>0</td>\n",
       "      <td>0</td>\n",
       "      <td>0</td>\n",
       "      <td>0</td>\n",
       "      <td>0</td>\n",
       "      <td>0</td>\n",
       "      <td>0</td>\n",
       "      <td>0</td>\n",
       "      <td>0</td>\n",
       "      <td>0</td>\n",
       "      <td>0</td>\n",
       "      <td>0</td>\n",
       "      <td>129</td>\n",
       "      <td>-34.90</td>\n",
       "    </tr>\n",
       "    <tr>\n",
       "      <th>2</th>\n",
       "      <td>2017-04-19 15:19:40.209290</td>\n",
       "      <td>1</td>\n",
       "      <td>0</td>\n",
       "      <td>0</td>\n",
       "      <td>0</td>\n",
       "      <td>0</td>\n",
       "      <td>0</td>\n",
       "      <td>0</td>\n",
       "      <td>0</td>\n",
       "      <td>0</td>\n",
       "      <td>0</td>\n",
       "      <td>0</td>\n",
       "      <td>0</td>\n",
       "      <td>0</td>\n",
       "      <td>0</td>\n",
       "      <td>0</td>\n",
       "      <td>0</td>\n",
       "      <td>144</td>\n",
       "      <td>-34.93</td>\n",
       "    </tr>\n",
       "    <tr>\n",
       "      <th>3</th>\n",
       "      <td>2017-04-19 15:20:10.209290</td>\n",
       "      <td>1</td>\n",
       "      <td>0</td>\n",
       "      <td>0</td>\n",
       "      <td>0</td>\n",
       "      <td>0</td>\n",
       "      <td>0</td>\n",
       "      <td>0</td>\n",
       "      <td>0</td>\n",
       "      <td>0</td>\n",
       "      <td>0</td>\n",
       "      <td>0</td>\n",
       "      <td>0</td>\n",
       "      <td>0</td>\n",
       "      <td>0</td>\n",
       "      <td>0</td>\n",
       "      <td>0</td>\n",
       "      <td>161</td>\n",
       "      <td>-35.09</td>\n",
       "    </tr>\n",
       "    <tr>\n",
       "      <th>4</th>\n",
       "      <td>2017-04-19 15:20:40.209290</td>\n",
       "      <td>1</td>\n",
       "      <td>0</td>\n",
       "      <td>0</td>\n",
       "      <td>0</td>\n",
       "      <td>0</td>\n",
       "      <td>0</td>\n",
       "      <td>0</td>\n",
       "      <td>0</td>\n",
       "      <td>0</td>\n",
       "      <td>0</td>\n",
       "      <td>0</td>\n",
       "      <td>0</td>\n",
       "      <td>0</td>\n",
       "      <td>0</td>\n",
       "      <td>0</td>\n",
       "      <td>0</td>\n",
       "      <td>182</td>\n",
       "      <td>-35.03</td>\n",
       "    </tr>\n",
       "  </tbody>\n",
       "</table>\n",
       "</div>"
      ],
      "text/plain": [
       "    19.4.2017 15:18:02.20929  1  0  0.1  0.2  0.3  0.4  0.5  0.6  0.7  0.8  \\\n",
       "0 2017-04-19 15:18:32.209290  1  0    0    0    0    0    0    0    0    0   \n",
       "1 2017-04-19 15:19:06.209290  1  0    0    0    0    0    0    0    0    0   \n",
       "2 2017-04-19 15:19:40.209290  1  0    0    0    0    0    0    0    0    0   \n",
       "3 2017-04-19 15:20:10.209290  1  0    0    0    0    0    0    0    0    0   \n",
       "4 2017-04-19 15:20:40.209290  1  0    0    0    0    0    0    0    0    0   \n",
       "\n",
       "   0.9  0.10  0.11  0.12  0.13  0.14  128    -35  \n",
       "0    0     0     0     0     0     0  128 -35.06  \n",
       "1    0     0     0     0     0     0  129 -34.90  \n",
       "2    0     0     0     0     0     0  144 -34.93  \n",
       "3    0     0     0     0     0     0  161 -35.09  \n",
       "4    0     0     0     0     0     0  182 -35.03  "
      ]
     },
     "execution_count": 7,
     "metadata": {},
     "output_type": "execute_result"
    }
   ],
   "source": [
    "logger1_df.head()"
   ]
  },
  {
   "cell_type": "code",
   "execution_count": 8,
   "metadata": {
    "collapsed": false
   },
   "outputs": [],
   "source": [
    "# Now we need to erase the unnecessary columns and rename the important ones\n",
    "\n",
    "logger1_df = logger1_df.drop(logger1_df.columns[range(1,17,1) + [18]], axis=1)"
   ]
  },
  {
   "cell_type": "code",
   "execution_count": 9,
   "metadata": {
    "collapsed": false
   },
   "outputs": [],
   "source": [
    "logger1_df = logger1_df.rename(columns={logger1_df.columns[0]: 'Timestamp', logger1_df.columns[1]: 'Measured_value'})"
   ]
  },
  {
   "cell_type": "code",
   "execution_count": 10,
   "metadata": {
    "collapsed": false
   },
   "outputs": [
    {
     "data": {
      "text/html": [
       "<div>\n",
       "<table border=\"1\" class=\"dataframe\">\n",
       "  <thead>\n",
       "    <tr style=\"text-align: right;\">\n",
       "      <th></th>\n",
       "      <th>Timestamp</th>\n",
       "      <th>Measured_value</th>\n",
       "    </tr>\n",
       "  </thead>\n",
       "  <tbody>\n",
       "    <tr>\n",
       "      <th>0</th>\n",
       "      <td>2017-04-19 15:18:32.209290</td>\n",
       "      <td>128</td>\n",
       "    </tr>\n",
       "    <tr>\n",
       "      <th>1</th>\n",
       "      <td>2017-04-19 15:19:06.209290</td>\n",
       "      <td>129</td>\n",
       "    </tr>\n",
       "    <tr>\n",
       "      <th>2</th>\n",
       "      <td>2017-04-19 15:19:40.209290</td>\n",
       "      <td>144</td>\n",
       "    </tr>\n",
       "    <tr>\n",
       "      <th>3</th>\n",
       "      <td>2017-04-19 15:20:10.209290</td>\n",
       "      <td>161</td>\n",
       "    </tr>\n",
       "    <tr>\n",
       "      <th>4</th>\n",
       "      <td>2017-04-19 15:20:40.209290</td>\n",
       "      <td>182</td>\n",
       "    </tr>\n",
       "  </tbody>\n",
       "</table>\n",
       "</div>"
      ],
      "text/plain": [
       "                   Timestamp  Measured_value\n",
       "0 2017-04-19 15:18:32.209290             128\n",
       "1 2017-04-19 15:19:06.209290             129\n",
       "2 2017-04-19 15:19:40.209290             144\n",
       "3 2017-04-19 15:20:10.209290             161\n",
       "4 2017-04-19 15:20:40.209290             182"
      ]
     },
     "execution_count": 10,
     "metadata": {},
     "output_type": "execute_result"
    }
   ],
   "source": [
    "logger1_df.head()"
   ]
  },
  {
   "cell_type": "code",
   "execution_count": null,
   "metadata": {
    "collapsed": false
   },
   "outputs": [],
   "source": []
  },
  {
   "cell_type": "markdown",
   "metadata": {},
   "source": [
    "To check, if we imported everything corretly, we can plot the temperature values from the DUT"
   ]
  },
  {
   "cell_type": "code",
   "execution_count": 8,
   "metadata": {
    "collapsed": false,
    "scrolled": false
   },
   "outputs": [
    {
     "data": {
      "text/plain": [
       "[<matplotlib.lines.Line2D at 0xad46198>]"
      ]
     },
     "execution_count": 8,
     "metadata": {},
     "output_type": "execute_result"
    },
    {
     "data": {
      "image/png": "[encoded data removed]",
      "text/plain": [
       "<matplotlib.figure.Figure at 0xad27668>"
      ]
     },
     "metadata": {},
     "output_type": "display_data"
    }
   ],
   "source": [
    "import matplotlib.dates as mdates\n",
    "plt.figure(figsize=(15,5))\n",
    "myFmt = mdates.DateFormatter('%Y-%m-%d %H')\n",
    "\n",
    "ax = plt.gca()\n",
    "ax.ticklabel_format(useOffset=False)\n",
    "ax.xaxis.set_major_formatter(myFmt)\n",
    "\n",
    "plt.plot(logger1_df.Timestamp, logger1_df.Measured_value, \".\")"
   ]
  },
  {
   "cell_type": "code",
   "execution_count": null,
   "metadata": {
    "collapsed": true
   },
   "outputs": [],
   "source": []
  },
  {
   "cell_type": "markdown",
   "metadata": {},
   "source": [
    "We need to do the same with data from the reference sensor"
   ]
  },
  {
   "cell_type": "code",
   "execution_count": 14,
   "metadata": {
    "collapsed": false
   },
   "outputs": [],
   "source": [
    "temperature_log_df = pd.read_table(temperature_log_file,\n",
    "                                   decimal=',',\n",
    "                                   header=1, \n",
    "                                   parse_dates=[[\"#Date\",\"#Time\"]],\n",
    "                                   dayfirst=True)\n",
    "temperature_log_df[temperature_log_df.columns[0]] = pd.to_datetime(temperature_log_df[temperature_log_df.columns[0]])"
   ]
  },
  {
   "cell_type": "code",
   "execution_count": 15,
   "metadata": {
    "collapsed": false,
    "scrolled": false
   },
   "outputs": [
    {
     "data": {
      "text/html": [
       "<div>\n",
       "<table border=\"1\" class=\"dataframe\">\n",
       "  <thead>\n",
       "    <tr style=\"text-align: right;\">\n",
       "      <th></th>\n",
       "      <th>#Date_#Time</th>\n",
       "      <th>#Temperature</th>\n",
       "    </tr>\n",
       "  </thead>\n",
       "  <tbody>\n",
       "    <tr>\n",
       "      <th>0</th>\n",
       "      <td>2017-04-19 15:17:37.076900</td>\n",
       "      <td>25.053</td>\n",
       "    </tr>\n",
       "    <tr>\n",
       "      <th>1</th>\n",
       "      <td>2017-04-19 15:18:07.054900</td>\n",
       "      <td>24.986</td>\n",
       "    </tr>\n",
       "    <tr>\n",
       "      <th>2</th>\n",
       "      <td>2017-04-19 15:18:37.080900</td>\n",
       "      <td>24.971</td>\n",
       "    </tr>\n",
       "    <tr>\n",
       "      <th>3</th>\n",
       "      <td>2017-04-19 15:19:07.091900</td>\n",
       "      <td>25.386</td>\n",
       "    </tr>\n",
       "    <tr>\n",
       "      <th>4</th>\n",
       "      <td>2017-04-19 15:19:37.117900</td>\n",
       "      <td>26.233</td>\n",
       "    </tr>\n",
       "  </tbody>\n",
       "</table>\n",
       "</div>"
      ],
      "text/plain": [
       "                 #Date_#Time  #Temperature\n",
       "0 2017-04-19 15:17:37.076900        25.053\n",
       "1 2017-04-19 15:18:07.054900        24.986\n",
       "2 2017-04-19 15:18:37.080900        24.971\n",
       "3 2017-04-19 15:19:07.091900        25.386\n",
       "4 2017-04-19 15:19:37.117900        26.233"
      ]
     },
     "execution_count": 15,
     "metadata": {},
     "output_type": "execute_result"
    }
   ],
   "source": [
    "temperature_log_df.head()"
   ]
  },
  {
   "cell_type": "code",
   "execution_count": 16,
   "metadata": {
    "collapsed": true
   },
   "outputs": [],
   "source": [
    "temperature_log_df = temperature_log_df.rename(columns={temperature_log_df.columns[0]: 'Timestamp', \n",
    "                                               temperature_log_df.columns[1]: 'Reference_temperature'})"
   ]
  },
  {
   "cell_type": "code",
   "execution_count": 17,
   "metadata": {
    "collapsed": false,
    "scrolled": false
   },
   "outputs": [
    {
     "data": {
      "text/plain": [
       "[<matplotlib.lines.Line2D at 0xb17d7f0>]"
      ]
     },
     "execution_count": 17,
     "metadata": {},
     "output_type": "execute_result"
    },
    {
     "data": {
      "image/png": "[encoded data removed]",
      "text/plain": [
       "<matplotlib.figure.Figure at 0xb4242e8>"
      ]
     },
     "metadata": {},
     "output_type": "display_data"
    }
   ],
   "source": [
    "import matplotlib.dates as mdates\n",
    "plt.figure(figsize=(15,5))\n",
    "myFmt = mdates.DateFormatter('%Y-%m-%d %H')\n",
    "\n",
    "ax = plt.gca()\n",
    "ax.ticklabel_format(useOffset=False)\n",
    "ax.xaxis.set_major_formatter(myFmt)\n",
    "\n",
    "plt.plot(temperature_log_df.Timestamp, temperature_log_df.Reference_temperature, \".\")"
   ]
  },
  {
   "cell_type": "code",
   "execution_count": null,
   "metadata": {
    "collapsed": true
   },
   "outputs": [],
   "source": []
  },
  {
   "cell_type": "markdown",
   "metadata": {},
   "source": [
    "Now we can plot the the data from both sensors into one graph using the same time basis"
   ]
  },
  {
   "cell_type": "code",
   "execution_count": 18,
   "metadata": {
    "collapsed": false,
    "scrolled": false
   },
   "outputs": [
    {
     "data": {
      "image/png": "[encoded data removed]",
      "text/plain": [
       "<matplotlib.figure.Figure at 0xb594da0>"
      ]
     },
     "metadata": {},
     "output_type": "display_data"
    }
   ],
   "source": [
    "import matplotlib.dates as mdates\n",
    "\n",
    "myFmt = mdates.DateFormatter('%m.%d %H')\n",
    "plt.rcParams[\"axes.formatter.useoffset\"] = False\n",
    "\n",
    "fig, ax1 = plt.subplots()\n",
    "\n",
    "ax1.plot(logger1_df.Timestamp, logger1_df.Measured_value, 'b.')\n",
    "ax1.set_xlabel('time (s)')\n",
    "ax1.xaxis.set_major_formatter(myFmt)\n",
    "# Make the y-axis label, ticks and tick labels match the line color.\n",
    "ax1.set_ylabel('Measured value', color='b')\n",
    "ax1.tick_params('y', colors='b')\n",
    "\n",
    "ax2 = ax1.twinx()\n",
    "ax2.plot(temperature_log_df.Timestamp, temperature_log_df.Reference_temperature, 'r.')\n",
    "ax2.set_ylabel('Temperature', color='r')\n",
    "ax2.tick_params('y', colors='r')\n",
    "\n",
    "fig.set_size_inches(15,10)"
   ]
  },
  {
   "cell_type": "markdown",
   "metadata": {},
   "source": [
    "This looks cool, there are a lot of things to do.\n",
    "\n",
    "* The sampling speed is different in the log files - we need to synchronize the reference with the DUT\n",
    "* The reference has faster thermal response than the DUT - we need to filter out only the stable parts from the data, wehre both sensors were stabilised on the same level (I will show this later, but I am speaking about the \"flat\" parts on the graph above)"
   ]
  },
  {
   "cell_type": "code",
   "execution_count": null,
   "metadata": {
    "collapsed": true
   },
   "outputs": [],
   "source": []
  },
  {
   "cell_type": "markdown",
   "metadata": {},
   "source": [
    "Pandas has a useful feature to solve the synchronisation issue. We can resample the dataframe over a defined interval. I have chosen 30 seconds - Pandas divides the dataframe into 30 second long chunks, calculates the average value and adds this to a new dataframe (You can apply other functions than average, but in this case, this is the most useful one) "
   ]
  },
  {
   "cell_type": "code",
   "execution_count": 19,
   "metadata": {
    "collapsed": true
   },
   "outputs": [],
   "source": [
    "temperature_log_resample_df = temperature_log_df.resample(\"30S\",on=temperature_log_df.columns[0]).mean()"
   ]
  },
  {
   "cell_type": "code",
   "execution_count": 20,
   "metadata": {
    "collapsed": false
   },
   "outputs": [
    {
     "data": {
      "text/html": [
       "<div>\n",
       "<table border=\"1\" class=\"dataframe\">\n",
       "  <thead>\n",
       "    <tr style=\"text-align: right;\">\n",
       "      <th></th>\n",
       "      <th>Reference_temperature</th>\n",
       "    </tr>\n",
       "    <tr>\n",
       "      <th>Timestamp</th>\n",
       "      <th></th>\n",
       "    </tr>\n",
       "  </thead>\n",
       "  <tbody>\n",
       "    <tr>\n",
       "      <th>2017-04-19 15:17:30</th>\n",
       "      <td>25.053</td>\n",
       "    </tr>\n",
       "    <tr>\n",
       "      <th>2017-04-19 15:18:00</th>\n",
       "      <td>24.986</td>\n",
       "    </tr>\n",
       "    <tr>\n",
       "      <th>2017-04-19 15:18:30</th>\n",
       "      <td>24.971</td>\n",
       "    </tr>\n",
       "    <tr>\n",
       "      <th>2017-04-19 15:19:00</th>\n",
       "      <td>25.386</td>\n",
       "    </tr>\n",
       "    <tr>\n",
       "      <th>2017-04-19 15:19:30</th>\n",
       "      <td>26.233</td>\n",
       "    </tr>\n",
       "  </tbody>\n",
       "</table>\n",
       "</div>"
      ],
      "text/plain": [
       "                     Reference_temperature\n",
       "Timestamp                                 \n",
       "2017-04-19 15:17:30                 25.053\n",
       "2017-04-19 15:18:00                 24.986\n",
       "2017-04-19 15:18:30                 24.971\n",
       "2017-04-19 15:19:00                 25.386\n",
       "2017-04-19 15:19:30                 26.233"
      ]
     },
     "execution_count": 20,
     "metadata": {},
     "output_type": "execute_result"
    }
   ],
   "source": [
    "temperature_log_resample_df.head()"
   ]
  },
  {
   "cell_type": "code",
   "execution_count": 21,
   "metadata": {
    "collapsed": false
   },
   "outputs": [],
   "source": [
    "logger1_resample_df = logger1_df.resample(\"30S\",on=logger1_df.columns[0]).mean()"
   ]
  },
  {
   "cell_type": "code",
   "execution_count": 22,
   "metadata": {
    "collapsed": false
   },
   "outputs": [
    {
     "data": {
      "text/html": [
       "<div>\n",
       "<table border=\"1\" class=\"dataframe\">\n",
       "  <thead>\n",
       "    <tr style=\"text-align: right;\">\n",
       "      <th></th>\n",
       "      <th>Measured_value</th>\n",
       "    </tr>\n",
       "    <tr>\n",
       "      <th>Timestamp</th>\n",
       "      <th></th>\n",
       "    </tr>\n",
       "  </thead>\n",
       "  <tbody>\n",
       "    <tr>\n",
       "      <th>2017-04-19 15:18:30</th>\n",
       "      <td>128.0</td>\n",
       "    </tr>\n",
       "    <tr>\n",
       "      <th>2017-04-19 15:19:00</th>\n",
       "      <td>129.0</td>\n",
       "    </tr>\n",
       "    <tr>\n",
       "      <th>2017-04-19 15:19:30</th>\n",
       "      <td>144.0</td>\n",
       "    </tr>\n",
       "    <tr>\n",
       "      <th>2017-04-19 15:20:00</th>\n",
       "      <td>161.0</td>\n",
       "    </tr>\n",
       "    <tr>\n",
       "      <th>2017-04-19 15:20:30</th>\n",
       "      <td>182.0</td>\n",
       "    </tr>\n",
       "  </tbody>\n",
       "</table>\n",
       "</div>"
      ],
      "text/plain": [
       "                     Measured_value\n",
       "Timestamp                          \n",
       "2017-04-19 15:18:30           128.0\n",
       "2017-04-19 15:19:00           129.0\n",
       "2017-04-19 15:19:30           144.0\n",
       "2017-04-19 15:20:00           161.0\n",
       "2017-04-19 15:20:30           182.0"
      ]
     },
     "execution_count": 22,
     "metadata": {},
     "output_type": "execute_result"
    }
   ],
   "source": [
    "logger1_resample_df.head()"
   ]
  },
  {
   "cell_type": "code",
   "execution_count": null,
   "metadata": {
    "collapsed": true
   },
   "outputs": [],
   "source": []
  },
  {
   "cell_type": "markdown",
   "metadata": {
    "collapsed": false,
    "scrolled": false
   },
   "source": [
    "Both log files are resampled, so they have the same time basis.\n",
    "Now we can plot them into the same graph"
   ]
  },
  {
   "cell_type": "code",
   "execution_count": 23,
   "metadata": {
    "collapsed": false,
    "scrolled": false
   },
   "outputs": [
    {
     "data": {
      "image/png": "[encoded data removed]",
      "text/plain": [
       "<matplotlib.figure.Figure at 0xb2e9f60>"
      ]
     },
     "metadata": {},
     "output_type": "display_data"
    }
   ],
   "source": [
    "import matplotlib.dates as mdates\n",
    "\n",
    "myFmt = mdates.DateFormatter('%m.%d %H')\n",
    "plt.rcParams[\"axes.formatter.useoffset\"] = False\n",
    "\n",
    "fig, ax1 = plt.subplots()\n",
    "\n",
    "ax1.plot(logger1_resample_df.index, logger1_resample_df.Measured_value, 'b.')\n",
    "ax1.set_xlabel('time (s)')\n",
    "ax1.xaxis.set_major_formatter(myFmt)\n",
    "# Make the y-axis label, ticks and tick labels match the line color.\n",
    "ax1.set_ylabel('Measured value', color='b')\n",
    "ax1.tick_params('y', colors='b')\n",
    "\n",
    "ax2 = ax1.twinx()\n",
    "ax2.plot(temperature_log_resample_df.index, temperature_log_resample_df.Reference_temperature, 'r.')\n",
    "ax2.set_ylabel('Temperature', color='r')\n",
    "ax2.tick_params('y', colors='r')\n",
    "\n",
    "fig.set_size_inches(15,10)\n"
   ]
  },
  {
   "cell_type": "code",
   "execution_count": null,
   "metadata": {
    "collapsed": true
   },
   "outputs": [],
   "source": []
  },
  {
   "cell_type": "markdown",
   "metadata": {},
   "source": [
    "Now we can merge the data into one dataframe, works very similar to SQL's inner join"
   ]
  },
  {
   "cell_type": "code",
   "execution_count": 24,
   "metadata": {
    "collapsed": false,
    "scrolled": true
   },
   "outputs": [],
   "source": [
    "merge_df = pd.merge(logger1_resample_df,\n",
    "                    temperature_log_resample_df,\n",
    "                    how=\"inner\",\n",
    "                    left_index=True,\n",
    "                    right_index=True)\n",
    "merge_df = merge_df.dropna()"
   ]
  },
  {
   "cell_type": "code",
   "execution_count": 25,
   "metadata": {
    "collapsed": false,
    "scrolled": true
   },
   "outputs": [
    {
     "data": {
      "text/html": [
       "<div>\n",
       "<table border=\"1\" class=\"dataframe\">\n",
       "  <thead>\n",
       "    <tr style=\"text-align: right;\">\n",
       "      <th></th>\n",
       "      <th>Measured_value</th>\n",
       "      <th>Reference_temperature</th>\n",
       "    </tr>\n",
       "  </thead>\n",
       "  <tbody>\n",
       "    <tr>\n",
       "      <th>count</th>\n",
       "      <td>4531.000000</td>\n",
       "      <td>4531.000000</td>\n",
       "    </tr>\n",
       "    <tr>\n",
       "      <th>mean</th>\n",
       "      <td>5843.200618</td>\n",
       "      <td>132.129273</td>\n",
       "    </tr>\n",
       "    <tr>\n",
       "      <th>std</th>\n",
       "      <td>1968.999856</td>\n",
       "      <td>33.956889</td>\n",
       "    </tr>\n",
       "    <tr>\n",
       "      <th>min</th>\n",
       "      <td>128.000000</td>\n",
       "      <td>24.971000</td>\n",
       "    </tr>\n",
       "    <tr>\n",
       "      <th>25%</th>\n",
       "      <td>3966.000000</td>\n",
       "      <td>99.846500</td>\n",
       "    </tr>\n",
       "    <tr>\n",
       "      <th>50%</th>\n",
       "      <td>6227.000000</td>\n",
       "      <td>139.419000</td>\n",
       "    </tr>\n",
       "    <tr>\n",
       "      <th>75%</th>\n",
       "      <td>7422.000000</td>\n",
       "      <td>159.619500</td>\n",
       "    </tr>\n",
       "    <tr>\n",
       "      <th>max</th>\n",
       "      <td>8647.000000</td>\n",
       "      <td>179.496000</td>\n",
       "    </tr>\n",
       "  </tbody>\n",
       "</table>\n",
       "</div>"
      ],
      "text/plain": [
       "       Measured_value  Reference_temperature\n",
       "count     4531.000000            4531.000000\n",
       "mean      5843.200618             132.129273\n",
       "std       1968.999856              33.956889\n",
       "min        128.000000              24.971000\n",
       "25%       3966.000000              99.846500\n",
       "50%       6227.000000             139.419000\n",
       "75%       7422.000000             159.619500\n",
       "max       8647.000000             179.496000"
      ]
     },
     "execution_count": 25,
     "metadata": {},
     "output_type": "execute_result"
    }
   ],
   "source": [
    "merge_df.describe()"
   ]
  },
  {
   "cell_type": "code",
   "execution_count": 26,
   "metadata": {
    "collapsed": false,
    "scrolled": false
   },
   "outputs": [
    {
     "data": {
      "text/html": [
       "<div>\n",
       "<table border=\"1\" class=\"dataframe\">\n",
       "  <thead>\n",
       "    <tr style=\"text-align: right;\">\n",
       "      <th></th>\n",
       "      <th>Measured_value</th>\n",
       "      <th>Reference_temperature</th>\n",
       "    </tr>\n",
       "    <tr>\n",
       "      <th>Timestamp</th>\n",
       "      <th></th>\n",
       "      <th></th>\n",
       "    </tr>\n",
       "  </thead>\n",
       "  <tbody>\n",
       "    <tr>\n",
       "      <th>2017-04-19 15:18:30</th>\n",
       "      <td>128.0</td>\n",
       "      <td>24.971</td>\n",
       "    </tr>\n",
       "    <tr>\n",
       "      <th>2017-04-19 15:19:00</th>\n",
       "      <td>129.0</td>\n",
       "      <td>25.386</td>\n",
       "    </tr>\n",
       "    <tr>\n",
       "      <th>2017-04-19 15:19:30</th>\n",
       "      <td>144.0</td>\n",
       "      <td>26.233</td>\n",
       "    </tr>\n",
       "    <tr>\n",
       "      <th>2017-04-19 15:20:00</th>\n",
       "      <td>161.0</td>\n",
       "      <td>27.449</td>\n",
       "    </tr>\n",
       "    <tr>\n",
       "      <th>2017-04-19 15:20:30</th>\n",
       "      <td>182.0</td>\n",
       "      <td>29.071</td>\n",
       "    </tr>\n",
       "  </tbody>\n",
       "</table>\n",
       "</div>"
      ],
      "text/plain": [
       "                     Measured_value  Reference_temperature\n",
       "Timestamp                                                 \n",
       "2017-04-19 15:18:30           128.0                 24.971\n",
       "2017-04-19 15:19:00           129.0                 25.386\n",
       "2017-04-19 15:19:30           144.0                 26.233\n",
       "2017-04-19 15:20:00           161.0                 27.449\n",
       "2017-04-19 15:20:30           182.0                 29.071"
      ]
     },
     "execution_count": 26,
     "metadata": {},
     "output_type": "execute_result"
    }
   ],
   "source": [
    "merge_df.head()"
   ]
  },
  {
   "cell_type": "markdown",
   "metadata": {},
   "source": [
    "There are two ways, how the stability of a value can be evaluated\n",
    "\n",
    "* Using standard deviation over the last n values\n",
    "* Using slope over the last n values - slope is the coefficient m in the linear regression equation: y = m*x + b"
   ]
  },
  {
   "cell_type": "code",
   "execution_count": 27,
   "metadata": {
    "collapsed": true
   },
   "outputs": [],
   "source": [
    "# Defining a function for slope calculation\n",
    "\n",
    "def slope(Y):\n",
    "    A = np.array([ np.arange(0,len(Y)), np.ones(len(Y))])\n",
    "    return np.linalg.lstsq(A.T,Y)[0][0]"
   ]
  },
  {
   "cell_type": "markdown",
   "metadata": {},
   "source": [
    "The slope and the standard deviation is applied 15 sample long rolling window"
   ]
  },
  {
   "cell_type": "code",
   "execution_count": 28,
   "metadata": {
    "collapsed": false
   },
   "outputs": [],
   "source": [
    "merge_df[\"stdev_meas_val\"] = merge_df[\"Measured_value\"].rolling(window=15,min_periods=1).std()\n",
    "merge_df[\"stdev_ref_temp\"] = merge_df[\"Reference_temperature\"].rolling(window=15,min_periods=1).std()"
   ]
  },
  {
   "cell_type": "code",
   "execution_count": 29,
   "metadata": {
    "collapsed": false
   },
   "outputs": [
    {
     "data": {
      "text/html": [
       "<div>\n",
       "<table border=\"1\" class=\"dataframe\">\n",
       "  <thead>\n",
       "    <tr style=\"text-align: right;\">\n",
       "      <th></th>\n",
       "      <th>Measured_value</th>\n",
       "      <th>Reference_temperature</th>\n",
       "      <th>stdev_meas_val</th>\n",
       "      <th>stdev_ref_temp</th>\n",
       "    </tr>\n",
       "    <tr>\n",
       "      <th>Timestamp</th>\n",
       "      <th></th>\n",
       "      <th></th>\n",
       "      <th></th>\n",
       "      <th></th>\n",
       "    </tr>\n",
       "  </thead>\n",
       "  <tbody>\n",
       "    <tr>\n",
       "      <th>2017-04-19 15:18:30</th>\n",
       "      <td>128.0</td>\n",
       "      <td>24.971</td>\n",
       "      <td>NaN</td>\n",
       "      <td>NaN</td>\n",
       "    </tr>\n",
       "    <tr>\n",
       "      <th>2017-04-19 15:19:00</th>\n",
       "      <td>129.0</td>\n",
       "      <td>25.386</td>\n",
       "      <td>0.707107</td>\n",
       "      <td>0.293449</td>\n",
       "    </tr>\n",
       "    <tr>\n",
       "      <th>2017-04-19 15:19:30</th>\n",
       "      <td>144.0</td>\n",
       "      <td>26.233</td>\n",
       "      <td>8.962886</td>\n",
       "      <td>0.643205</td>\n",
       "    </tr>\n",
       "    <tr>\n",
       "      <th>2017-04-19 15:20:00</th>\n",
       "      <td>161.0</td>\n",
       "      <td>27.449</td>\n",
       "      <td>15.502688</td>\n",
       "      <td>1.093823</td>\n",
       "    </tr>\n",
       "    <tr>\n",
       "      <th>2017-04-19 15:20:30</th>\n",
       "      <td>182.0</td>\n",
       "      <td>29.071</td>\n",
       "      <td>22.906331</td>\n",
       "      <td>1.664808</td>\n",
       "    </tr>\n",
       "  </tbody>\n",
       "</table>\n",
       "</div>"
      ],
      "text/plain": [
       "                     Measured_value  Reference_temperature  stdev_meas_val  \\\n",
       "Timestamp                                                                    \n",
       "2017-04-19 15:18:30           128.0                 24.971             NaN   \n",
       "2017-04-19 15:19:00           129.0                 25.386        0.707107   \n",
       "2017-04-19 15:19:30           144.0                 26.233        8.962886   \n",
       "2017-04-19 15:20:00           161.0                 27.449       15.502688   \n",
       "2017-04-19 15:20:30           182.0                 29.071       22.906331   \n",
       "\n",
       "                     stdev_ref_temp  \n",
       "Timestamp                            \n",
       "2017-04-19 15:18:30             NaN  \n",
       "2017-04-19 15:19:00        0.293449  \n",
       "2017-04-19 15:19:30        0.643205  \n",
       "2017-04-19 15:20:00        1.093823  \n",
       "2017-04-19 15:20:30        1.664808  "
      ]
     },
     "execution_count": 29,
     "metadata": {},
     "output_type": "execute_result"
    }
   ],
   "source": [
    "merge_df.head()"
   ]
  },
  {
   "cell_type": "code",
   "execution_count": 30,
   "metadata": {
    "collapsed": false
   },
   "outputs": [],
   "source": [
    "merge_df[\"slope_meas_val\"] = merge_df[\"Measured_value\"].rolling(window=15,min_periods=1).apply(slope)\n",
    "merge_df[\"slope_ref_temp\"] = merge_df[\"Reference_temperature\"].rolling(window=15,min_periods=1).apply(slope)"
   ]
  },
  {
   "cell_type": "code",
   "execution_count": 31,
   "metadata": {
    "collapsed": true
   },
   "outputs": [],
   "source": [
    "merge_df[\"TimeCopy\"] = merge_df.index"
   ]
  },
  {
   "cell_type": "code",
   "execution_count": 32,
   "metadata": {
    "collapsed": false,
    "scrolled": false
   },
   "outputs": [
    {
     "data": {
      "text/html": [
       "<div>\n",
       "<table border=\"1\" class=\"dataframe\">\n",
       "  <thead>\n",
       "    <tr style=\"text-align: right;\">\n",
       "      <th></th>\n",
       "      <th>Measured_value</th>\n",
       "      <th>Reference_temperature</th>\n",
       "      <th>stdev_meas_val</th>\n",
       "      <th>stdev_ref_temp</th>\n",
       "      <th>slope_meas_val</th>\n",
       "      <th>slope_ref_temp</th>\n",
       "      <th>TimeCopy</th>\n",
       "    </tr>\n",
       "    <tr>\n",
       "      <th>Timestamp</th>\n",
       "      <th></th>\n",
       "      <th></th>\n",
       "      <th></th>\n",
       "      <th></th>\n",
       "      <th></th>\n",
       "      <th></th>\n",
       "      <th></th>\n",
       "    </tr>\n",
       "  </thead>\n",
       "  <tbody>\n",
       "    <tr>\n",
       "      <th>2017-04-19 15:18:30</th>\n",
       "      <td>128.0</td>\n",
       "      <td>24.971</td>\n",
       "      <td>NaN</td>\n",
       "      <td>NaN</td>\n",
       "      <td>0.0</td>\n",
       "      <td>0.0000</td>\n",
       "      <td>2017-04-19 15:18:30</td>\n",
       "    </tr>\n",
       "    <tr>\n",
       "      <th>2017-04-19 15:19:00</th>\n",
       "      <td>129.0</td>\n",
       "      <td>25.386</td>\n",
       "      <td>0.707107</td>\n",
       "      <td>0.293449</td>\n",
       "      <td>1.0</td>\n",
       "      <td>0.4150</td>\n",
       "      <td>2017-04-19 15:19:00</td>\n",
       "    </tr>\n",
       "    <tr>\n",
       "      <th>2017-04-19 15:19:30</th>\n",
       "      <td>144.0</td>\n",
       "      <td>26.233</td>\n",
       "      <td>8.962886</td>\n",
       "      <td>0.643205</td>\n",
       "      <td>8.0</td>\n",
       "      <td>0.6310</td>\n",
       "      <td>2017-04-19 15:19:30</td>\n",
       "    </tr>\n",
       "    <tr>\n",
       "      <th>2017-04-19 15:20:00</th>\n",
       "      <td>161.0</td>\n",
       "      <td>27.449</td>\n",
       "      <td>15.502688</td>\n",
       "      <td>1.093823</td>\n",
       "      <td>11.4</td>\n",
       "      <td>0.8281</td>\n",
       "      <td>2017-04-19 15:20:00</td>\n",
       "    </tr>\n",
       "    <tr>\n",
       "      <th>2017-04-19 15:20:30</th>\n",
       "      <td>182.0</td>\n",
       "      <td>29.071</td>\n",
       "      <td>22.906331</td>\n",
       "      <td>1.664808</td>\n",
       "      <td>14.0</td>\n",
       "      <td>1.0263</td>\n",
       "      <td>2017-04-19 15:20:30</td>\n",
       "    </tr>\n",
       "  </tbody>\n",
       "</table>\n",
       "</div>"
      ],
      "text/plain": [
       "                     Measured_value  Reference_temperature  stdev_meas_val  \\\n",
       "Timestamp                                                                    \n",
       "2017-04-19 15:18:30           128.0                 24.971             NaN   \n",
       "2017-04-19 15:19:00           129.0                 25.386        0.707107   \n",
       "2017-04-19 15:19:30           144.0                 26.233        8.962886   \n",
       "2017-04-19 15:20:00           161.0                 27.449       15.502688   \n",
       "2017-04-19 15:20:30           182.0                 29.071       22.906331   \n",
       "\n",
       "                     stdev_ref_temp  slope_meas_val  slope_ref_temp  \\\n",
       "Timestamp                                                             \n",
       "2017-04-19 15:18:30             NaN             0.0          0.0000   \n",
       "2017-04-19 15:19:00        0.293449             1.0          0.4150   \n",
       "2017-04-19 15:19:30        0.643205             8.0          0.6310   \n",
       "2017-04-19 15:20:00        1.093823            11.4          0.8281   \n",
       "2017-04-19 15:20:30        1.664808            14.0          1.0263   \n",
       "\n",
       "                               TimeCopy  \n",
       "Timestamp                                \n",
       "2017-04-19 15:18:30 2017-04-19 15:18:30  \n",
       "2017-04-19 15:19:00 2017-04-19 15:19:00  \n",
       "2017-04-19 15:19:30 2017-04-19 15:19:30  \n",
       "2017-04-19 15:20:00 2017-04-19 15:20:00  \n",
       "2017-04-19 15:20:30 2017-04-19 15:20:30  "
      ]
     },
     "execution_count": 32,
     "metadata": {},
     "output_type": "execute_result"
    }
   ],
   "source": [
    "merge_df.head()"
   ]
  },
  {
   "cell_type": "markdown",
   "metadata": {},
   "source": [
    "Now we can visualize the data in glueviz"
   ]
  },
  {
   "cell_type": "code",
   "execution_count": 39,
   "metadata": {
    "collapsed": true
   },
   "outputs": [],
   "source": [
    "%gui qt\n",
    "from glue import qglue"
   ]
  },
  {
   "cell_type": "code",
   "execution_count": 40,
   "metadata": {
    "collapsed": true
   },
   "outputs": [],
   "source": [
    "app = qglue(xy=merge_df)"
   ]
  },
  {
   "cell_type": "code",
   "execution_count": 42,
   "metadata": {
    "collapsed": false
   },
   "outputs": [],
   "source": [
    "meas_val_limit = 0.05"
   ]
  },
  {
   "cell_type": "code",
   "execution_count": 43,
   "metadata": {
    "collapsed": false
   },
   "outputs": [],
   "source": [
    "ref_temp_limit = 0.00015"
   ]
  },
  {
   "cell_type": "markdown",
   "metadata": {},
   "source": [
    "On the rows, where slope is close to zero, the temperature values are flat. By choosing the right threshold value for the slope we can filter out the most stable values"
   ]
  },
  {
   "cell_type": "markdown",
   "metadata": {
    "collapsed": false
   },
   "source": [
    "![title](img/glueviz.png)"
   ]
  },
  {
   "cell_type": "code",
   "execution_count": null,
   "metadata": {
    "collapsed": false
   },
   "outputs": [],
   "source": []
  },
  {
   "cell_type": "markdown",
   "metadata": {},
   "source": [
    "stable_df represents the filtered data rows, where the slope value is lower than the chosen threshold"
   ]
  },
  {
   "cell_type": "code",
   "execution_count": 44,
   "metadata": {
    "collapsed": false,
    "scrolled": false
   },
   "outputs": [
    {
     "data": {
      "text/plain": [
       "[<matplotlib.lines.Line2D at 0x178be908>]"
      ]
     },
     "execution_count": 44,
     "metadata": {},
     "output_type": "execute_result"
    },
    {
     "data": {
      "image/png": "[encoded data removed]",
      "text/plain": [
       "<matplotlib.figure.Figure at 0xf6ce128>"
      ]
     },
     "metadata": {},
     "output_type": "display_data"
    }
   ],
   "source": [
    "stable_df = merge_df.ix[(abs(merge_df.slope_meas_val)<meas_val_limit) & (abs(merge_df.slope_ref_temp)<ref_temp_limit)]\n",
    "stable_df = stable_df.dropna()\n",
    "\n",
    "plt.figure(figsize=(10,10))\n",
    "ax = plt.gca()\n",
    "ax.ticklabel_format(useOffset=False)\n",
    "#dfStable\n",
    "plt.plot(stable_df[\"Reference_temperature\"], stable_df[\"Measured_value\"],\".\")"
   ]
  },
  {
   "cell_type": "code",
   "execution_count": 45,
   "metadata": {
    "collapsed": false,
    "scrolled": false
   },
   "outputs": [
    {
     "data": {
      "text/plain": [
       "(57, 7)"
      ]
     },
     "execution_count": 45,
     "metadata": {},
     "output_type": "execute_result"
    }
   ],
   "source": [
    "stable_df.shape"
   ]
  },
  {
   "cell_type": "markdown",
   "metadata": {},
   "source": [
    "If we want to to group the stable values around particular temperature values (the values we are interested in), we can use the groupby feature"
   ]
  },
  {
   "cell_type": "code",
   "execution_count": 47,
   "metadata": {
    "collapsed": false
   },
   "outputs": [
    {
     "data": {
      "text/html": [
       "<div>\n",
       "<table border=\"1\" class=\"dataframe\">\n",
       "  <thead>\n",
       "    <tr style=\"text-align: right;\">\n",
       "      <th></th>\n",
       "      <th>Measured_value</th>\n",
       "      <th>Reference_temperature</th>\n",
       "      <th>stdev_meas_val</th>\n",
       "      <th>stdev_ref_temp</th>\n",
       "      <th>slope_meas_val</th>\n",
       "      <th>slope_ref_temp</th>\n",
       "    </tr>\n",
       "    <tr>\n",
       "      <th>Reference_temperature</th>\n",
       "      <th></th>\n",
       "      <th></th>\n",
       "      <th></th>\n",
       "      <th></th>\n",
       "      <th></th>\n",
       "      <th></th>\n",
       "    </tr>\n",
       "  </thead>\n",
       "  <tbody>\n",
       "    <tr>\n",
       "      <th>(79, 81]</th>\n",
       "      <td>2890.000000</td>\n",
       "      <td>79.793500</td>\n",
       "      <td>2.923326</td>\n",
       "      <td>0.002686</td>\n",
       "      <td>0.026786</td>\n",
       "      <td>5.000000e-05</td>\n",
       "    </tr>\n",
       "    <tr>\n",
       "      <th>(99, 101]</th>\n",
       "      <td>3959.000000</td>\n",
       "      <td>99.788000</td>\n",
       "      <td>3.487797</td>\n",
       "      <td>0.003132</td>\n",
       "      <td>0.001531</td>\n",
       "      <td>-2.551020e-06</td>\n",
       "    </tr>\n",
       "    <tr>\n",
       "      <th>(119, 121]</th>\n",
       "      <td>5080.400000</td>\n",
       "      <td>119.706867</td>\n",
       "      <td>3.050430</td>\n",
       "      <td>0.002957</td>\n",
       "      <td>0.009048</td>\n",
       "      <td>2.928571e-05</td>\n",
       "    </tr>\n",
       "    <tr>\n",
       "      <th>(139, 141]</th>\n",
       "      <td>6232.642857</td>\n",
       "      <td>139.585429</td>\n",
       "      <td>3.204346</td>\n",
       "      <td>0.003833</td>\n",
       "      <td>0.002041</td>\n",
       "      <td>-1.403061e-05</td>\n",
       "    </tr>\n",
       "    <tr>\n",
       "      <th>(159, 161]</th>\n",
       "      <td>7418.571429</td>\n",
       "      <td>159.547000</td>\n",
       "      <td>2.954982</td>\n",
       "      <td>0.005777</td>\n",
       "      <td>0.024490</td>\n",
       "      <td>5.102041e-07</td>\n",
       "    </tr>\n",
       "    <tr>\n",
       "      <th>(161, 179]</th>\n",
       "      <td>8031.000000</td>\n",
       "      <td>169.671000</td>\n",
       "      <td>3.863135</td>\n",
       "      <td>0.008198</td>\n",
       "      <td>0.035714</td>\n",
       "      <td>-4.642857e-05</td>\n",
       "    </tr>\n",
       "    <tr>\n",
       "      <th>(179, 181]</th>\n",
       "      <td>8635.545455</td>\n",
       "      <td>179.468273</td>\n",
       "      <td>2.749100</td>\n",
       "      <td>0.004720</td>\n",
       "      <td>0.007468</td>\n",
       "      <td>7.110390e-05</td>\n",
       "    </tr>\n",
       "  </tbody>\n",
       "</table>\n",
       "</div>"
      ],
      "text/plain": [
       "                       Measured_value  Reference_temperature  stdev_meas_val  \\\n",
       "Reference_temperature                                                          \n",
       "(79, 81]                  2890.000000              79.793500        2.923326   \n",
       "(99, 101]                 3959.000000              99.788000        3.487797   \n",
       "(119, 121]                5080.400000             119.706867        3.050430   \n",
       "(139, 141]                6232.642857             139.585429        3.204346   \n",
       "(159, 161]                7418.571429             159.547000        2.954982   \n",
       "(161, 179]                8031.000000             169.671000        3.863135   \n",
       "(179, 181]                8635.545455             179.468273        2.749100   \n",
       "\n",
       "                       stdev_ref_temp  slope_meas_val  slope_ref_temp  \n",
       "Reference_temperature                                                  \n",
       "(79, 81]                     0.002686        0.026786    5.000000e-05  \n",
       "(99, 101]                    0.003132        0.001531   -2.551020e-06  \n",
       "(119, 121]                   0.002957        0.009048    2.928571e-05  \n",
       "(139, 141]                   0.003833        0.002041   -1.403061e-05  \n",
       "(159, 161]                   0.005777        0.024490    5.102041e-07  \n",
       "(161, 179]                   0.008198        0.035714   -4.642857e-05  \n",
       "(179, 181]                   0.004720        0.007468    7.110390e-05  "
      ]
     },
     "execution_count": 47,
     "metadata": {},
     "output_type": "execute_result"
    }
   ],
   "source": [
    "result_df = stable_df.groupby(pd.cut(stable_df.Reference_temperature, [79,81,99,101,119,121,139,141,159,161,179,181], \n",
    "                                     labels=None)).mean().dropna()\n",
    "result_df"
   ]
  },
  {
   "cell_type": "code",
   "execution_count": 48,
   "metadata": {
    "collapsed": false,
    "scrolled": false
   },
   "outputs": [],
   "source": [
    "result_df.to_csv(\"eval.csv\", sep='\\t')"
   ]
  },
  {
   "cell_type": "code",
   "execution_count": null,
   "metadata": {
    "collapsed": false
   },
   "outputs": [],
   "source": []
  },
  {
   "cell_type": "markdown",
   "metadata": {},
   "source": [
    "Form the data it looks like, that we need to apply polynomial regression to model the relatonship between the reference and the DUT"
   ]
  },
  {
   "cell_type": "code",
   "execution_count": 50,
   "metadata": {
    "collapsed": false,
    "scrolled": false
   },
   "outputs": [
    {
     "data": {
      "text/plain": [
       "[<matplotlib.lines.Line2D at 0x1522af98>]"
      ]
     },
     "execution_count": 50,
     "metadata": {},
     "output_type": "execute_result"
    },
    {
     "data": {
      "image/png": "[encoded data removed]",
      "text/plain": [
       "<matplotlib.figure.Figure at 0x1522abe0>"
      ]
     },
     "metadata": {},
     "output_type": "display_data"
    }
   ],
   "source": [
    "y = result_df.Reference_temperature\n",
    "x = result_df.Measured_value\n",
    "\n",
    "fig, ax = plt.subplots()\n",
    "\n",
    "fit = np.polyfit(result_df.Measured_value, result_df.Reference_temperature, deg=2)\n",
    "ax.scatter(x, y)\n",
    "# ax.scatter(result_df.Measured_value, result_df.Reference_temperature)\n",
    "ax.plot(x, fit[0] * (x ** 2) + fit[1] * x + fit[2], 'r--')\n"
   ]
  },
  {
   "cell_type": "markdown",
   "metadata": {},
   "source": [
    "* To evaluate the \"efficiency\" of the determined model, first we need to apply the determined polynomial model on the value from the DUT (Calculated_value)\n",
    "* Then we need to calculate the difference between the Calculated_value and the Reference_temperature - this is the error of the DUT"
   ]
  },
  {
   "cell_type": "code",
   "execution_count": 56,
   "metadata": {
    "collapsed": false
   },
   "outputs": [],
   "source": [
    "stable_df[\"Calculated_value\"] =  fit[0] * (stable_df.Reference_temperature ** 2) + \\\n",
    "    fit[1] * stable_df.Reference_temperature + \\\n",
    "    fit[2]\n",
    "stable_df[\"error\"] = stable_df.Calculated_value - stable_df.Measured_value\n",
    "val_range = max(stable_df.Measured_value) - min(stable_df.Measured_value)\n",
    "stable_df[\"Percentual_error\"] = (stable_df[\"error\"]/val_range)"
   ]
  },
  {
   "cell_type": "code",
   "execution_count": 57,
   "metadata": {
    "collapsed": false,
    "scrolled": false
   },
   "outputs": [
    {
     "data": {
      "text/html": [
       "<div>\n",
       "<table border=\"1\" class=\"dataframe\">\n",
       "  <thead>\n",
       "    <tr style=\"text-align: right;\">\n",
       "      <th></th>\n",
       "      <th>Measured_value</th>\n",
       "      <th>Reference_temperature</th>\n",
       "      <th>stdev_meas_val</th>\n",
       "      <th>stdev_ref_temp</th>\n",
       "      <th>slope_meas_val</th>\n",
       "      <th>slope_ref_temp</th>\n",
       "      <th>TimeCopy</th>\n",
       "      <th>Calculated_value</th>\n",
       "      <th>error</th>\n",
       "      <th>Percentual_error</th>\n",
       "    </tr>\n",
       "    <tr>\n",
       "      <th>Timestamp</th>\n",
       "      <th></th>\n",
       "      <th></th>\n",
       "      <th></th>\n",
       "      <th></th>\n",
       "      <th></th>\n",
       "      <th></th>\n",
       "      <th></th>\n",
       "      <th></th>\n",
       "      <th></th>\n",
       "      <th></th>\n",
       "    </tr>\n",
       "  </thead>\n",
       "  <tbody>\n",
       "    <tr>\n",
       "      <th>2017-04-19 17:52:30</th>\n",
       "      <td>2890.0</td>\n",
       "      <td>79.769</td>\n",
       "      <td>3.377799</td>\n",
       "      <td>0.002769</td>\n",
       "      <td>0.025000</td>\n",
       "      <td>1.784215e-15</td>\n",
       "      <td>2017-04-19 17:52:30</td>\n",
       "      <td>2884.137149</td>\n",
       "      <td>-5.862851</td>\n",
       "      <td>-0.001020</td>\n",
       "    </tr>\n",
       "    <tr>\n",
       "      <th>2017-04-19 18:26:00</th>\n",
       "      <td>2890.0</td>\n",
       "      <td>79.818</td>\n",
       "      <td>2.468854</td>\n",
       "      <td>0.002604</td>\n",
       "      <td>0.028571</td>\n",
       "      <td>1.000000e-04</td>\n",
       "      <td>2017-04-19 18:26:00</td>\n",
       "      <td>2886.743849</td>\n",
       "      <td>-3.256151</td>\n",
       "      <td>-0.000566</td>\n",
       "    </tr>\n",
       "    <tr>\n",
       "      <th>2017-04-19 20:49:00</th>\n",
       "      <td>3959.0</td>\n",
       "      <td>99.735</td>\n",
       "      <td>4.126569</td>\n",
       "      <td>0.002446</td>\n",
       "      <td>0.025000</td>\n",
       "      <td>-3.571429e-06</td>\n",
       "      <td>2017-04-19 20:49:00</td>\n",
       "      <td>3964.280805</td>\n",
       "      <td>5.280805</td>\n",
       "      <td>0.000918</td>\n",
       "    </tr>\n",
       "    <tr>\n",
       "      <th>2017-04-19 21:01:00</th>\n",
       "      <td>3960.0</td>\n",
       "      <td>99.742</td>\n",
       "      <td>4.418576</td>\n",
       "      <td>0.003086</td>\n",
       "      <td>0.003571</td>\n",
       "      <td>1.285714e-04</td>\n",
       "      <td>2017-04-19 21:01:00</td>\n",
       "      <td>3964.665825</td>\n",
       "      <td>4.665825</td>\n",
       "      <td>0.000811</td>\n",
       "    </tr>\n",
       "    <tr>\n",
       "      <th>2017-04-19 21:42:00</th>\n",
       "      <td>3959.0</td>\n",
       "      <td>99.774</td>\n",
       "      <td>2.919556</td>\n",
       "      <td>0.002165</td>\n",
       "      <td>0.032143</td>\n",
       "      <td>-1.142857e-04</td>\n",
       "      <td>2017-04-19 21:42:00</td>\n",
       "      <td>3966.425973</td>\n",
       "      <td>7.425973</td>\n",
       "      <td>0.001291</td>\n",
       "    </tr>\n",
       "  </tbody>\n",
       "</table>\n",
       "</div>"
      ],
      "text/plain": [
       "                     Measured_value  Reference_temperature  stdev_meas_val  \\\n",
       "Timestamp                                                                    \n",
       "2017-04-19 17:52:30          2890.0                 79.769        3.377799   \n",
       "2017-04-19 18:26:00          2890.0                 79.818        2.468854   \n",
       "2017-04-19 20:49:00          3959.0                 99.735        4.126569   \n",
       "2017-04-19 21:01:00          3960.0                 99.742        4.418576   \n",
       "2017-04-19 21:42:00          3959.0                 99.774        2.919556   \n",
       "\n",
       "                     stdev_ref_temp  slope_meas_val  slope_ref_temp  \\\n",
       "Timestamp                                                             \n",
       "2017-04-19 17:52:30        0.002769        0.025000    1.784215e-15   \n",
       "2017-04-19 18:26:00        0.002604        0.028571    1.000000e-04   \n",
       "2017-04-19 20:49:00        0.002446        0.025000   -3.571429e-06   \n",
       "2017-04-19 21:01:00        0.003086        0.003571    1.285714e-04   \n",
       "2017-04-19 21:42:00        0.002165        0.032143   -1.142857e-04   \n",
       "\n",
       "                               TimeCopy  Calculated_value     error  \\\n",
       "Timestamp                                                             \n",
       "2017-04-19 17:52:30 2017-04-19 17:52:30       2884.137149 -5.862851   \n",
       "2017-04-19 18:26:00 2017-04-19 18:26:00       2886.743849 -3.256151   \n",
       "2017-04-19 20:49:00 2017-04-19 20:49:00       3964.280805  5.280805   \n",
       "2017-04-19 21:01:00 2017-04-19 21:01:00       3964.665825  4.665825   \n",
       "2017-04-19 21:42:00 2017-04-19 21:42:00       3966.425973  7.425973   \n",
       "\n",
       "                     Percentual_error  \n",
       "Timestamp                              \n",
       "2017-04-19 17:52:30         -0.001020  \n",
       "2017-04-19 18:26:00         -0.000566  \n",
       "2017-04-19 20:49:00          0.000918  \n",
       "2017-04-19 21:01:00          0.000811  \n",
       "2017-04-19 21:42:00          0.001291  "
      ]
     },
     "execution_count": 57,
     "metadata": {},
     "output_type": "execute_result"
    }
   ],
   "source": [
    "stable_df.head()"
   ]
  },
  {
   "cell_type": "code",
   "execution_count": 58,
   "metadata": {
    "collapsed": false
   },
   "outputs": [
    {
     "data": {
      "text/plain": [
       "<Container object of 3 artists>"
      ]
     },
     "execution_count": 58,
     "metadata": {},
     "output_type": "execute_result"
    },
    {
     "data": {
      "image/png": "[encoded data removed]",
      "text/plain": [
       "<matplotlib.figure.Figure at 0x15ab61d0>"
      ]
     },
     "metadata": {},
     "output_type": "display_data"
    }
   ],
   "source": [
    "x = result_df.Reference_temperature\n",
    "y = result_df.Measured_value\n",
    "\n",
    "fig, ax = plt.subplots()\n",
    "\n",
    "fit = np.polyfit(result_df.Reference_temperature, result_df.Measured_value, deg=2)\n",
    "ax.scatter(x, y)\n",
    "# ax.scatter(result_df.Measured_value, result_df.Reference_temperature)\n",
    "ax.plot(x, fit[0] * (x ** 2) + fit[1] * x + fit[2], 'r--')\n",
    "ax.errorbar(stable_df.Reference_temperature,\n",
    "             stable_df.Measured_value,\n",
    "             yerr=stable_df.Percentual_error\n",
    "           )"
   ]
  }
 ],
 "metadata": {
  "anaconda-cloud": {},
  "kernelspec": {
   "display_name": "Python [conda root]",
   "language": "python",
   "name": "conda-root-py"
  },
  "language_info": {
   "codemirror_mode": {
    "name": "ipython",
    "version": 2
   },
   "file_extension": ".py",
   "mimetype": "text/x-python",
   "name": "python",
   "nbconvert_exporter": "python",
   "pygments_lexer": "ipython2",
   "version": "2.7.12"
  }
 },
 "nbformat": 4,
 "nbformat_minor": 1
}
